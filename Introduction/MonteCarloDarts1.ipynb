{
 "cells": [
  {
   "cell_type": "markdown",
   "id": "afb0b426",
   "metadata": {},
   "source": [
    "Monte Carlo Simulation"
   ]
  },
  {
   "cell_type": "code",
   "execution_count": null,
   "id": "f26f2e70",
   "metadata": {},
   "outputs": [],
   "source": [
    "import random\n",
    "import math"
   ]
  },
  {
   "cell_type": "code",
   "execution_count": null,
   "id": "872b78fa",
   "metadata": {},
   "outputs": [],
   "source": [
    "N = 10000\n",
    "InsideCircle = 0\n",
    "\n",
    "for i in range(N):\n",
    "    x = random.random() * 2\n",
    "    y = random.random() * 2\n",
    "    distance = math.sqrt( (x-1) ** 2 + (y-1) ** 2 )\n",
    "    \n",
    "    if distance <= 1:\n",
    "        InsideCircle += 1\n",
    "\n",
    "EstProb = InsideCircle / N\n",
    "\n",
    "print(\"Estimated probability:\", EstProb )"
   ]
  },
  {
   "cell_type": "code",
   "execution_count": null,
   "id": "20908785",
   "metadata": {},
   "outputs": [],
   "source": []
  }
 ],
 "metadata": {
  "kernelspec": {
   "display_name": "Python 3 (ipykernel)",
   "language": "python",
   "name": "python3"
  },
  "language_info": {
   "codemirror_mode": {
    "name": "ipython",
    "version": 3
   },
   "file_extension": ".py",
   "mimetype": "text/x-python",
   "name": "python",
   "nbconvert_exporter": "python",
   "pygments_lexer": "ipython3",
   "version": "3.11.4"
  }
 },
 "nbformat": 4,
 "nbformat_minor": 5
}
