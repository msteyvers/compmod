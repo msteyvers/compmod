{
 "cells": [
  {
   "cell_type": "markdown",
   "id": "afb0b426",
   "metadata": {},
   "source": [
    "Monte Carlo Simulation"
   ]
  },
  {
   "cell_type": "code",
   "execution_count": null,
   "id": "f26f2e70",
   "metadata": {
    "tags": []
   },
   "outputs": [],
   "source": [
    "import random\n",
    "import math\n",
    "import matplotlib.pyplot as plt"
   ]
  },
  {
   "cell_type": "code",
   "execution_count": null,
   "id": "872b78fa",
   "metadata": {
    "tags": []
   },
   "outputs": [],
   "source": [
    "N = 10000\n",
    "InsideCircle = 0\n",
    "\n",
    "x_inside = []\n",
    "y_inside = []\n",
    "x_outside = []\n",
    "y_outside = []\n",
    "\n",
    "for i in range(N):\n",
    "    x = random.random() * 2\n",
    "    y = random.random() * 2\n",
    "    distance = math.sqrt( (x-1) ** 2 + (y-1) ** 2 )\n",
    "    \n",
    "    if distance <= 1:\n",
    "        InsideCircle += 1\n",
    "        x_inside.append(x)\n",
    "        y_inside.append(y)\n",
    "    else:\n",
    "        x_outside.append(x)\n",
    "        y_outside.append(y)\n",
    "\n",
    "EstProb = InsideCircle / N\n",
    "\n",
    "print(\"Estimated probability:\", EstProb )"
   ]
  },
  {
   "cell_type": "code",
   "execution_count": null,
   "id": "915bdbca",
   "metadata": {
    "tags": []
   },
   "outputs": [],
   "source": [
    "plt.figure(figsize=(6, 6))\n",
    "plt.scatter(x_inside, y_inside, color='blue', s=1)\n",
    "plt.scatter(x_outside, y_outside, color='red', s=1)\n",
    "plt.show()"
   ]
  },
  {
   "cell_type": "code",
   "execution_count": null,
   "id": "20908785",
   "metadata": {},
   "outputs": [],
   "source": []
  }
 ],
 "metadata": {
  "kernelspec": {
   "display_name": "Python 3 (ipykernel)",
   "language": "python",
   "name": "python3"
  },
  "language_info": {
   "codemirror_mode": {
    "name": "ipython",
    "version": 3
   },
   "file_extension": ".py",
   "mimetype": "text/x-python",
   "name": "python",
   "nbconvert_exporter": "python",
   "pygments_lexer": "ipython3",
   "version": "3.11.4"
  }
 },
 "nbformat": 4,
 "nbformat_minor": 5
}
